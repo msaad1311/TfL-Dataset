{
 "metadata": {
  "language_info": {
   "codemirror_mode": {
    "name": "ipython",
    "version": 3
   },
   "file_extension": ".py",
   "mimetype": "text/x-python",
   "name": "python",
   "nbconvert_exporter": "python",
   "pygments_lexer": "ipython3",
   "version": "3.8.5-final"
  },
  "orig_nbformat": 2,
  "kernelspec": {
   "name": "python385jvsc74a57bd098d02db719cbc2b70b9686500162c01e03669605ba8adf28b794f0d5dbb6cd2a",
   "display_name": "Python 3.8.5 64-bit ('tflDataset': conda)"
  },
  "metadata": {
   "interpreter": {
    "hash": "98d02db719cbc2b70b9686500162c01e03669605ba8adf28b794f0d5dbb6cd2a"
   }
  }
 },
 "nbformat": 4,
 "nbformat_minor": 2,
 "cells": [
  {
   "cell_type": "code",
   "execution_count": 1,
   "metadata": {},
   "outputs": [],
   "source": [
    "import pandas as pd\n",
    "import numpy as np\n",
    "import matplotlib.pyplot as plt\n",
    "import seaborn as sns\n",
    "from scipy.special import inv_boxcox\n",
    "from scipy import stats\n",
    "from sklearn.model_selection import train_test_split\n",
    "from sklearn.preprocessing import MinMaxScaler,LabelEncoder\n",
    "from sklearn.metrics import mean_absolute_error as mae, mean_squared_error as mse,r2_score\n",
    "import math\n",
    "\n",
    "from tensorflow import keras"
   ]
  },
  {
   "cell_type": "code",
   "execution_count": 2,
   "metadata": {},
   "outputs": [
    {
     "output_type": "execute_result",
     "data": {
      "text/plain": [
       "(Test Time         0\n",
       " Roll Speed        0\n",
       " Eng. Speed        0\n",
       " CO Mass           0\n",
       " NOx Mass          0\n",
       " CO2 Mass          0\n",
       " driving cycle     0\n",
       " Vehicle           0\n",
       " dtype: int64,\n",
       " (74176, 8))"
      ]
     },
     "metadata": {},
     "execution_count": 2
    }
   ],
   "source": [
    "data = pd.read_excel('../data/Processed_data.xlsx')\n",
    "data = data.loc[:, ~data.columns.str.contains('^Unnamed')]\n",
    "data = data.drop(data[(data['NOx Mass']<0) | (data['Eng. Speed']<0) | (data['Roll Speed']<0)].index)\n",
    "data = data.drop(data[(data['CO Mass']==0)].index)\n",
    "data.isnull().sum(),data.shape"
   ]
  },
  {
   "cell_type": "code",
   "execution_count": 3,
   "metadata": {},
   "outputs": [
    {
     "output_type": "execute_result",
     "data": {
      "text/plain": [
       "          Test Time    Roll Speed    Eng. Speed       CO Mass      NOx Mass  \\\n",
       "count  74176.000000  7.417600e+04  74176.000000  7.417600e+04  7.417600e+04   \n",
       "mean    7108.624590  3.775808e+01   1296.418358  6.747405e-03  4.757227e-03   \n",
       "std     4088.920177  3.347045e+01   1081.842152  4.681529e-02  9.272865e-03   \n",
       "min        0.100000  1.881270e-07      0.042635  2.633260e-10  9.261210e-10   \n",
       "25%     3514.100000  9.896497e+00    730.810000  1.732927e-05  4.306815e-05   \n",
       "50%     7127.600000  3.126160e+01   1193.330000  5.701690e-05  1.269605e-03   \n",
       "75%    10737.350000  5.195493e+01   1807.557500  6.606997e-04  5.794280e-03   \n",
       "max    14018.100000  1.170090e+02  20693.200000  1.464500e+00  1.859920e-01   \n",
       "\n",
       "           CO2 Mass       Vehicle  \n",
       "count  74176.000000  74176.000000  \n",
       "mean       2.190542      3.434925  \n",
       "std        2.164275      1.709246  \n",
       "min        0.000649      1.000000  \n",
       "25%        0.658664      2.000000  \n",
       "50%        1.374640      4.000000  \n",
       "75%        3.085600      5.000000  \n",
       "max       18.684400      6.000000  "
      ],
      "text/html": "<div>\n<style scoped>\n    .dataframe tbody tr th:only-of-type {\n        vertical-align: middle;\n    }\n\n    .dataframe tbody tr th {\n        vertical-align: top;\n    }\n\n    .dataframe thead th {\n        text-align: right;\n    }\n</style>\n<table border=\"1\" class=\"dataframe\">\n  <thead>\n    <tr style=\"text-align: right;\">\n      <th></th>\n      <th>Test Time</th>\n      <th>Roll Speed</th>\n      <th>Eng. Speed</th>\n      <th>CO Mass</th>\n      <th>NOx Mass</th>\n      <th>CO2 Mass</th>\n      <th>Vehicle</th>\n    </tr>\n  </thead>\n  <tbody>\n    <tr>\n      <th>count</th>\n      <td>74176.000000</td>\n      <td>7.417600e+04</td>\n      <td>74176.000000</td>\n      <td>7.417600e+04</td>\n      <td>7.417600e+04</td>\n      <td>74176.000000</td>\n      <td>74176.000000</td>\n    </tr>\n    <tr>\n      <th>mean</th>\n      <td>7108.624590</td>\n      <td>3.775808e+01</td>\n      <td>1296.418358</td>\n      <td>6.747405e-03</td>\n      <td>4.757227e-03</td>\n      <td>2.190542</td>\n      <td>3.434925</td>\n    </tr>\n    <tr>\n      <th>std</th>\n      <td>4088.920177</td>\n      <td>3.347045e+01</td>\n      <td>1081.842152</td>\n      <td>4.681529e-02</td>\n      <td>9.272865e-03</td>\n      <td>2.164275</td>\n      <td>1.709246</td>\n    </tr>\n    <tr>\n      <th>min</th>\n      <td>0.100000</td>\n      <td>1.881270e-07</td>\n      <td>0.042635</td>\n      <td>2.633260e-10</td>\n      <td>9.261210e-10</td>\n      <td>0.000649</td>\n      <td>1.000000</td>\n    </tr>\n    <tr>\n      <th>25%</th>\n      <td>3514.100000</td>\n      <td>9.896497e+00</td>\n      <td>730.810000</td>\n      <td>1.732927e-05</td>\n      <td>4.306815e-05</td>\n      <td>0.658664</td>\n      <td>2.000000</td>\n    </tr>\n    <tr>\n      <th>50%</th>\n      <td>7127.600000</td>\n      <td>3.126160e+01</td>\n      <td>1193.330000</td>\n      <td>5.701690e-05</td>\n      <td>1.269605e-03</td>\n      <td>1.374640</td>\n      <td>4.000000</td>\n    </tr>\n    <tr>\n      <th>75%</th>\n      <td>10737.350000</td>\n      <td>5.195493e+01</td>\n      <td>1807.557500</td>\n      <td>6.606997e-04</td>\n      <td>5.794280e-03</td>\n      <td>3.085600</td>\n      <td>5.000000</td>\n    </tr>\n    <tr>\n      <th>max</th>\n      <td>14018.100000</td>\n      <td>1.170090e+02</td>\n      <td>20693.200000</td>\n      <td>1.464500e+00</td>\n      <td>1.859920e-01</td>\n      <td>18.684400</td>\n      <td>6.000000</td>\n    </tr>\n  </tbody>\n</table>\n</div>"
     },
     "metadata": {},
     "execution_count": 3
    }
   ],
   "source": [
    "data.describe()"
   ]
  },
  {
   "cell_type": "code",
   "execution_count": 6,
   "metadata": {},
   "outputs": [],
   "source": [
    "data['CO_transformed'] = np.log(data['CO Mass'])\n",
    "data['NO_transformed'] = np.log(data['NOx Mass'])\n",
    "data['CO2_transformed'] = np.log(data['CO2 Mass'])"
   ]
  },
  {
   "cell_type": "code",
   "execution_count": 7,
   "metadata": {},
   "outputs": [
    {
     "output_type": "execute_result",
     "data": {
      "text/plain": [
       "          Test Time    Roll Speed    Eng. Speed       CO Mass      NOx Mass  \\\n",
       "count  74176.000000  7.417600e+04  74176.000000  7.417600e+04  7.417600e+04   \n",
       "mean    7108.624590  3.775808e+01   1296.418358  6.747405e-03  4.757227e-03   \n",
       "std     4088.920177  3.347045e+01   1081.842152  4.681529e-02  9.272865e-03   \n",
       "min        0.100000  1.881270e-07      0.042635  2.633260e-10  9.261210e-10   \n",
       "25%     3514.100000  9.896497e+00    730.810000  1.732927e-05  4.306815e-05   \n",
       "50%     7127.600000  3.126160e+01   1193.330000  5.701690e-05  1.269605e-03   \n",
       "75%    10737.350000  5.195493e+01   1807.557500  6.606997e-04  5.794280e-03   \n",
       "max    14018.100000  1.170090e+02  20693.200000  1.464500e+00  1.859920e-01   \n",
       "\n",
       "           CO2 Mass       Vehicle  CO_transformed  NO_transformed  \\\n",
       "count  74176.000000  74176.000000    74176.000000    74176.000000   \n",
       "mean       2.190542      3.434925       -9.452813       -7.561234   \n",
       "std        2.164275      1.709246        3.195596        2.848061   \n",
       "min        0.000649      1.000000      -22.057628      -20.800016   \n",
       "25%        0.658664      2.000000      -10.963113      -10.052727   \n",
       "50%        1.374640      4.000000       -9.772163       -6.669049   \n",
       "75%        3.085600      5.000000       -7.322211       -5.150884   \n",
       "max       18.684400      6.000000        0.381514       -1.682052   \n",
       "\n",
       "       CO2_transformed  \n",
       "count     74176.000000  \n",
       "mean          0.190440  \n",
       "std           1.408268  \n",
       "min          -7.339814  \n",
       "25%          -0.417541  \n",
       "50%           0.318192  \n",
       "75%           1.126746  \n",
       "max           2.927689  "
      ],
      "text/html": "<div>\n<style scoped>\n    .dataframe tbody tr th:only-of-type {\n        vertical-align: middle;\n    }\n\n    .dataframe tbody tr th {\n        vertical-align: top;\n    }\n\n    .dataframe thead th {\n        text-align: right;\n    }\n</style>\n<table border=\"1\" class=\"dataframe\">\n  <thead>\n    <tr style=\"text-align: right;\">\n      <th></th>\n      <th>Test Time</th>\n      <th>Roll Speed</th>\n      <th>Eng. Speed</th>\n      <th>CO Mass</th>\n      <th>NOx Mass</th>\n      <th>CO2 Mass</th>\n      <th>Vehicle</th>\n      <th>CO_transformed</th>\n      <th>NO_transformed</th>\n      <th>CO2_transformed</th>\n    </tr>\n  </thead>\n  <tbody>\n    <tr>\n      <th>count</th>\n      <td>74176.000000</td>\n      <td>7.417600e+04</td>\n      <td>74176.000000</td>\n      <td>7.417600e+04</td>\n      <td>7.417600e+04</td>\n      <td>74176.000000</td>\n      <td>74176.000000</td>\n      <td>74176.000000</td>\n      <td>74176.000000</td>\n      <td>74176.000000</td>\n    </tr>\n    <tr>\n      <th>mean</th>\n      <td>7108.624590</td>\n      <td>3.775808e+01</td>\n      <td>1296.418358</td>\n      <td>6.747405e-03</td>\n      <td>4.757227e-03</td>\n      <td>2.190542</td>\n      <td>3.434925</td>\n      <td>-9.452813</td>\n      <td>-7.561234</td>\n      <td>0.190440</td>\n    </tr>\n    <tr>\n      <th>std</th>\n      <td>4088.920177</td>\n      <td>3.347045e+01</td>\n      <td>1081.842152</td>\n      <td>4.681529e-02</td>\n      <td>9.272865e-03</td>\n      <td>2.164275</td>\n      <td>1.709246</td>\n      <td>3.195596</td>\n      <td>2.848061</td>\n      <td>1.408268</td>\n    </tr>\n    <tr>\n      <th>min</th>\n      <td>0.100000</td>\n      <td>1.881270e-07</td>\n      <td>0.042635</td>\n      <td>2.633260e-10</td>\n      <td>9.261210e-10</td>\n      <td>0.000649</td>\n      <td>1.000000</td>\n      <td>-22.057628</td>\n      <td>-20.800016</td>\n      <td>-7.339814</td>\n    </tr>\n    <tr>\n      <th>25%</th>\n      <td>3514.100000</td>\n      <td>9.896497e+00</td>\n      <td>730.810000</td>\n      <td>1.732927e-05</td>\n      <td>4.306815e-05</td>\n      <td>0.658664</td>\n      <td>2.000000</td>\n      <td>-10.963113</td>\n      <td>-10.052727</td>\n      <td>-0.417541</td>\n    </tr>\n    <tr>\n      <th>50%</th>\n      <td>7127.600000</td>\n      <td>3.126160e+01</td>\n      <td>1193.330000</td>\n      <td>5.701690e-05</td>\n      <td>1.269605e-03</td>\n      <td>1.374640</td>\n      <td>4.000000</td>\n      <td>-9.772163</td>\n      <td>-6.669049</td>\n      <td>0.318192</td>\n    </tr>\n    <tr>\n      <th>75%</th>\n      <td>10737.350000</td>\n      <td>5.195493e+01</td>\n      <td>1807.557500</td>\n      <td>6.606997e-04</td>\n      <td>5.794280e-03</td>\n      <td>3.085600</td>\n      <td>5.000000</td>\n      <td>-7.322211</td>\n      <td>-5.150884</td>\n      <td>1.126746</td>\n    </tr>\n    <tr>\n      <th>max</th>\n      <td>14018.100000</td>\n      <td>1.170090e+02</td>\n      <td>20693.200000</td>\n      <td>1.464500e+00</td>\n      <td>1.859920e-01</td>\n      <td>18.684400</td>\n      <td>6.000000</td>\n      <td>0.381514</td>\n      <td>-1.682052</td>\n      <td>2.927689</td>\n    </tr>\n  </tbody>\n</table>\n</div>"
     },
     "metadata": {},
     "execution_count": 7
    }
   ],
   "source": [
    "data.describe()"
   ]
  },
  {
   "cell_type": "code",
   "execution_count": 10,
   "metadata": {},
   "outputs": [
    {
     "output_type": "stream",
     "name": "stdout",
     "text": [
      "xtrain shape is (59340, 4),xtest shape is (14836, 4)\nytrain shape is (59340, 3),ytest shape is (14836, 3)\n"
     ]
    }
   ],
   "source": [
    "xtrain,xtest,ytrain,ytest = train_test_split(data[['Roll Speed','Eng. Speed','driving cycle ','Vehicle']].values,\n",
    "                                            data[['CO_transformed','NO_transformed','CO2_transformed']].values,shuffle=True,random_state=42,test_size=0.2)\n",
    "print(f'xtrain shape is {xtrain.shape},xtest shape is {xtest.shape}')\n",
    "print(f'ytrain shape is {ytrain.shape},ytest shape is {ytest.shape}')                                        "
   ]
  },
  {
   "cell_type": "code",
   "execution_count": 11,
   "metadata": {},
   "outputs": [
    {
     "output_type": "stream",
     "name": "stdout",
     "text": [
      "xtrain_numeric shape is (59340, 2),xtrain_categor shape is (59340, 2)\nxtest_numeric shape is (14836, 2),xtest_categor shape is (14836, 2)\n"
     ]
    }
   ],
   "source": [
    "xtrain_numeric = xtrain[:,:2]\n",
    "xtrain_categor = xtrain[:,2:]\n",
    "\n",
    "xtest_numeric = xtest[:,:2]\n",
    "xtest_categor = xtest[:,2:]\n",
    "\n",
    "print(f'xtrain_numeric shape is {xtrain_numeric.shape},xtrain_categor shape is {xtrain_categor.shape}')\n",
    "print(f'xtest_numeric shape is {xtest_numeric.shape},xtest_categor shape is {xtest_categor.shape}')"
   ]
  },
  {
   "cell_type": "code",
   "execution_count": null,
   "metadata": {},
   "outputs": [],
   "source": []
  }
 ]
}